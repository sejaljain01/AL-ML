{
 "cells": [
  {
   "cell_type": "code",
   "execution_count": 2,
   "metadata": {},
   "outputs": [
    {
     "name": "stdout",
     "output_type": "stream",
     "text": [
      "it is a pallindrome\n"
     ]
    }
   ],
   "source": [
    "#QUESTION 1\n",
    "def pallindrome(s):\n",
    "    str=\"\"\n",
    "    for i in s:\n",
    "        str=i+str\n",
    "    return str\n",
    "strng=input('enter a string :')\n",
    "check=strng\n",
    "reverse=pallindrome(strng)\n",
    "if(reverse==check):\n",
    "    print('it is a pallindrome')\n",
    "else:\n",
    "    print('not a pallidrome')\n",
    "    "
   ]
  },
  {
   "cell_type": "code",
   "execution_count": 16,
   "metadata": {},
   "outputs": [
    {
     "name": "stdout",
     "output_type": "stream",
     "text": [
      "98765432\n"
     ]
    }
   ],
   "source": [
    "#QUESTION 2\n",
    "def calculator():\n",
    "    num1 =int(input(\"enter first no :\"))\n",
    "    num2 =int(input(\"enter secnd no :\"))\n",
    "    operator = input(\"enter the operator :\")\n",
    "    if(operator== '+' ) :\n",
    "        print(num1+num2)\n",
    "    elif (operator== \"-\") :\n",
    "        print(num1-num2)\n",
    "    elif(operator == '/') :\n",
    "        print(num1/num2)\n",
    "    elif(operator== '*'):\n",
    "        print(num1*num2)\n",
    "    else:\n",
    "        print('enter a valid operator ')\n",
    "\n",
    "calculator()"
   ]
  },
  {
   "cell_type": "code",
   "execution_count": 25,
   "metadata": {},
   "outputs": [
    {
     "name": "stdout",
     "output_type": "stream",
     "text": [
      "a 0\n",
      "b 1\n",
      "h 2\n",
      "i 3\n",
      "l 4\n",
      "a 5\n",
      "s 6\n",
      "h 7\n",
      "a 8\n"
     ]
    }
   ],
   "source": [
    "#QUESTION 3\n",
    "def counter(s):\n",
    "    count=0\n",
    "    for i in s:\n",
    "        print(i,count)\n",
    "        count+=1\n",
    "string=input(\"enter a string :\")\n",
    "counter(string)"
   ]
  },
  {
   "cell_type": "code",
   "execution_count": 36,
   "metadata": {},
   "outputs": [
    {
     "name": "stdout",
     "output_type": "stream",
     "text": [
      "*\n",
      "**\n",
      "***\n",
      "****\n",
      "*****\n"
     ]
    }
   ],
   "source": [
    "#QUESTION 4\n",
    "def right_triangle(n):\n",
    "     for i in range(0,n):\n",
    "          for j in range(0,i+1):\n",
    "               print(\"*\",end=\"\")\n",
    "          print()\n",
    "num=int(input(\"enter the number:\"))\n",
    "right_triangle(num)\n",
    "\n"
   ]
  },
  {
   "cell_type": "code",
   "execution_count": 31,
   "metadata": {},
   "outputs": [
    {
     "name": "stdout",
     "output_type": "stream",
     "text": [
      "12 x 1 = 12\n",
      "12 x 2 = 24\n",
      "12 x 3 = 36\n",
      "12 x 4 = 48\n",
      "12 x 5 = 60\n",
      "12 x 6 = 72\n",
      "12 x 7 = 84\n",
      "12 x 8 = 96\n",
      "12 x 9 = 108\n",
      "12 x 10 = 120\n"
     ]
    }
   ],
   "source": [
    "#QUESTION 5\n",
    "def multiplication_table(n):\n",
    "    for i in range(1,11):\n",
    "        print(n,\"x\",i,\"=\",n*i)\n",
    "num=int(input(\"enter the number :\"))\n",
    "multiplication_table(num)"
   ]
  },
  {
   "cell_type": "code",
   "execution_count": null,
   "metadata": {},
   "outputs": [],
   "source": []
  }
 ],
 "metadata": {
  "kernelspec": {
   "display_name": "Python 3",
   "language": "python",
   "name": "python3"
  },
  "language_info": {
   "codemirror_mode": {
    "name": "ipython",
    "version": 3
   },
   "file_extension": ".py",
   "mimetype": "text/x-python",
   "name": "python",
   "nbconvert_exporter": "python",
   "pygments_lexer": "ipython3",
   "version": "3.11.9"
  }
 },
 "nbformat": 4,
 "nbformat_minor": 2
}
