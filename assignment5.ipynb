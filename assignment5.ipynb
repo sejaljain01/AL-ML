{
 "cells": [
  {
   "cell_type": "code",
   "execution_count": 11,
   "metadata": {},
   "outputs": [
    {
     "name": "stdout",
     "output_type": "stream",
     "text": [
      "3.7994000000000008\n"
     ]
    }
   ],
   "source": [
    "#QUESTION 1\n",
    "class calculate_area:\n",
    "    def __init__(self,radius):\n",
    "        self.radius=radius\n",
    "    def circle(self):\n",
    "        A=float(3.14*(self.radius**2))\n",
    "        print(A)\n",
    "\n",
    "radius=float(input(\"Enter radius\"))\n",
    "a1=calculate_area(radius)\n",
    "a1.circle()"
   ]
  },
  {
   "cell_type": "code",
   "execution_count": 15,
   "metadata": {},
   "outputs": [
    {
     "name": "stdout",
     "output_type": "stream",
     "text": [
      "99.0\n"
     ]
    }
   ],
   "source": [
    "#QUESTION 2\n",
    "class calculate_discount:\n",
    "    def __init__(self,org_price,percentage):\n",
    "        self.org_price=org_price\n",
    "        self.percentage=percentage\n",
    "    def calculate(self):\n",
    "        discount=float((self.percentage/100)*self.org_price)\n",
    "        final_price=float((self.org_price - discount))\n",
    "        print(final_price)\n",
    "org_price=float(input(\"enter price:\"))\n",
    "percentage=float(input(\"enter discount percentage:\"))\n",
    "d1=calculate_discount(org_price,percentage)\n",
    "d1.calculate()"
   ]
  },
  {
   "cell_type": "code",
   "execution_count": 17,
   "metadata": {},
   "outputs": [
    {
     "name": "stdout",
     "output_type": "stream",
     "text": [
      "total no of vowels in the string: 4\n"
     ]
    }
   ],
   "source": [
    "#QUESTION 3\n",
    "class count_vowels:\n",
    "    def __init__(self,string):\n",
    "        self.string=string\n",
    "    def vowels(self):\n",
    "       vowel=0\n",
    "       check=\"aeiouAEIOU\"\n",
    "       for i in self.string:\n",
    "           if i in check:\n",
    "              vowel+=1\n",
    "       print(\"total no of vowels in the string:\",vowel)\n",
    "\n",
    "string=input(\"enter string:\")\n",
    "c1=count_vowels(string)\n",
    "c1.vowels()\n"
   ]
  }
 ],
 "metadata": {
  "kernelspec": {
   "display_name": "Python 3",
   "language": "python",
   "name": "python3"
  },
  "language_info": {
   "codemirror_mode": {
    "name": "ipython",
    "version": 3
   },
   "file_extension": ".py",
   "mimetype": "text/x-python",
   "name": "python",
   "nbconvert_exporter": "python",
   "pygments_lexer": "ipython3",
   "version": "3.11.9"
  }
 },
 "nbformat": 4,
 "nbformat_minor": 2
}
