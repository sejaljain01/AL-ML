{
 "cells": [
  {
   "cell_type": "code",
   "execution_count": 3,
   "metadata": {},
   "outputs": [
    {
     "name": "stdout",
     "output_type": "stream",
     "text": [
      "Files organized successfully!\n"
     ]
    }
   ],
   "source": [
    "import os\n",
    "import shutil\n",
    "\n",
    "# Define paths\n",
    "source_folder = \"JECRC\"\n",
    "image_folder = \"image_folder\"\n",
    "text_folder = \"text_folder\"\n",
    "pdf_folder = \"pdf_folder\"\n",
    "\n",
    "# Create destination folders if they don't exist\n",
    "for folder in [image_folder, text_folder, pdf_folder]:\n",
    "    os.makedirs(folder, exist_ok=True)\n",
    "\n",
    "# Iterate over files in source_folder\n",
    "for filename in os.listdir(source_folder):\n",
    "    file_path = os.path.join(source_folder, filename)\n",
    "\n",
    "    # Check if the file is a valid file (not a directory)\n",
    "    if os.path.isfile(file_path):\n",
    "        # Determine file type based on extension\n",
    "        _, extension = os.path.splitext(filename)\n",
    "        extension = extension.lower()  # Normalize extension to lowercase\n",
    "\n",
    "        # Move file to respective folder based on extension\n",
    "        if extension in ('.jpg', '.jpeg', '.png', '.gif'):\n",
    "            shutil.move(file_path, os.path.join(image_folder, filename))\n",
    "        elif extension in ('.txt', '.doc', '.docx'):\n",
    "            shutil.move(file_path, os.path.join(text_folder, filename))\n",
    "        elif extension == '.pdf':\n",
    "            shutil.move(file_path, os.path.join(pdf_folder, filename))\n",
    "        else:\n",
    "            print(f\"Ignoring {filename} (unsupported file type)\")\n",
    "\n",
    "print(\"Files organized successfully!\")"
   ]
  }
 ],
 "metadata": {
  "kernelspec": {
   "display_name": "Python 3",
   "language": "python",
   "name": "python3"
  },
  "language_info": {
   "codemirror_mode": {
    "name": "ipython",
    "version": 3
   },
   "file_extension": ".py",
   "mimetype": "text/x-python",
   "name": "python",
   "nbconvert_exporter": "python",
   "pygments_lexer": "ipython3",
   "version": "3.11.9"
  }
 },
 "nbformat": 4,
 "nbformat_minor": 2
}
