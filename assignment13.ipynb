{
 "cells": [
  {
   "cell_type": "code",
   "execution_count": 1,
   "metadata": {},
   "outputs": [
    {
     "name": "stdout",
     "output_type": "stream",
     "text": [
      "sum of even is :  260\n",
      "sum of odd is :  339\n",
      "no. of even:  5\n",
      "no. of odd:  9\n"
     ]
    }
   ],
   "source": [
    "#QUESTION 1\n",
    "\n",
    "def odd_even(ls):\n",
    "    count_odd=0\n",
    "    sum_odd=0\n",
    "    count_even=0\n",
    "    sum_even=0\n",
    "    for items in ls:\n",
    "        if items%2==0:\n",
    "            sum_even=sum_even+items\n",
    "            count_even+=1\n",
    "        else:\n",
    "            sum_odd=sum_odd+items\n",
    "            count_odd+=1\n",
    "    print(\"sum of even is : \",sum_even)\n",
    "    print(\"sum of odd is : \",sum_odd)\n",
    "    print(\"no. of even: \",count_even)\n",
    "    print(\"no. of odd: \",count_odd)\n",
    "lst = [25,41,85,96,35,64,75,9,12,21,32,23,25,56]\n",
    "odd_even(lst)\n"
   ]
  },
  {
   "cell_type": "code",
   "execution_count": 2,
   "metadata": {},
   "outputs": [
    {
     "name": "stdout",
     "output_type": "stream",
     "text": [
      "Target element 4 found at index 1\n",
      "Target element 9 found at index 5 using binary search\n"
     ]
    }
   ],
   "source": [
    "#QUESTION 2\n",
    "\n",
    "## linear search\n",
    "def linear_search(arr, target):\n",
    "    for i in range(len(arr)):\n",
    "        if arr[i] == target:\n",
    "            return i\n",
    "    return -1  # Return -1 if target element is not found\n",
    "\n",
    "# Take user input for the array\n",
    "arr = list(map(int, input(\"Enter the elements of the array separated by spaces: \").split()))\n",
    "target = int(input(\"Enter the target element to search for: \"))\n",
    "result = linear_search(arr, target)\n",
    "\n",
    "if result != -1:\n",
    "    print(f\"Target element {target} found at index {result}\")\n",
    "else:\n",
    "    print(f\"Target element {target} not found in the list\")\n",
    "\n",
    "\n",
    "\n",
    "\n",
    "### binary search\n",
    "\n",
    "def binary_search(arr, target):\n",
    "    left, right = 0, len(arr) - 1\n",
    "\n",
    "    while left <= right:\n",
    "        mid = (left + right) // 2\n",
    "        if arr[mid] == target:\n",
    "            return mid \n",
    "        elif arr[mid] < target:\n",
    "            left = mid + 1\n",
    "        else:\n",
    "            right = mid - 1\n",
    "\n",
    "    return -1  \n",
    "\n",
    "arr = [1, 2, 4, 6, 7, 9]\n",
    "target = 9\n",
    "result = binary_search(arr, target)\n",
    "if result != -1:\n",
    "    print(f\"Target element {target} found at index {result} using binary search\")\n",
    "else:\n",
    "    print(f\"Target element {target} not found in the list using binary search\")"
   ]
  },
  {
   "cell_type": "code",
   "execution_count": 3,
   "metadata": {},
   "outputs": [
    {
     "name": "stdout",
     "output_type": "stream",
     "text": [
      "List of square elements: [625, 1681, 7225, 9216, 1225, 4096, 5625, 81, 144, 441, 1024, 529, 625, 3136]\n",
      "List of even numbers: [96, 64, 12, 32, 56]\n"
     ]
    }
   ],
   "source": [
    "#QUESTION 3\n",
    "\n",
    "lst = [25, 41, 85, 96, 35, 64, 75, 9, 12, 21, 32, 23, 25, 56]\n",
    "square_list = [x ** 2 for x in lst]\n",
    "even_list = [x for x in lst if x % 2 == 0]\n",
    "\n",
    "print(\"List of square elements:\", square_list)\n",
    "print(\"List of even numbers:\", even_list)"
   ]
  }
 ],
 "metadata": {
  "kernelspec": {
   "display_name": "Python 3",
   "language": "python",
   "name": "python3"
  },
  "language_info": {
   "codemirror_mode": {
    "name": "ipython",
    "version": 3
   },
   "file_extension": ".py",
   "mimetype": "text/x-python",
   "name": "python",
   "nbconvert_exporter": "python",
   "pygments_lexer": "ipython3",
   "version": "3.11.5"
  }
 },
 "nbformat": 4,
 "nbformat_minor": 2
}
