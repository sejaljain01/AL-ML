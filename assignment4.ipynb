{
 "cells": [
  {
   "cell_type": "code",
   "execution_count": 32,
   "metadata": {},
   "outputs": [
    {
     "name": "stdout",
     "output_type": "stream",
     "text": [
      "Factorial of  5 : 120\n"
     ]
    }
   ],
   "source": [
    "#QUESTION 1\n",
    "n=int(input(\"enter the number:\"))\n",
    "def factorial(n):\n",
    "    if(n==1):\n",
    "        return 1\n",
    "    else:\n",
    "        return n*factorial(n-1)\n",
    "print(\"Factorial of \",n,\":\",factorial(n)) \n"
   ]
  },
  {
   "cell_type": "code",
   "execution_count": 30,
   "metadata": {},
   "outputs": [
    {
     "name": "stdout",
     "output_type": "stream",
     "text": [
      "2\n",
      "3\n"
     ]
    }
   ],
   "source": [
    "#QUESTION 2\n",
    "import os\n",
    "file = open('text1.txt','r')\n",
    "data = file.read()\n",
    "file.close()\n",
    "# print(len(data.split()))\n",
    "l = data.split(\"\\n\")\n",
    "for i in l:\n",
    "    print(len(i.split(\" \")))\n"
   ]
  },
  {
   "cell_type": "code",
   "execution_count": 24,
   "metadata": {},
   "outputs": [
    {
     "name": "stdout",
     "output_type": "stream",
     "text": [
      "Max num:  80\n",
      "Min num:  1\n"
     ]
    }
   ],
   "source": [
    "#QUESTION 3\n",
    "list=[2,34,1,56,76,45,80]\n",
    "\n",
    "def maximum(list):\n",
    "   max=list[0]\n",
    "   for i in list:\n",
    "     if(i>max):\n",
    "       max=i\n",
    "   return max\n",
    "\n",
    "def minimum(list):\n",
    "  min=list[0]\n",
    "  for i in list:\n",
    "    if(i<min):\n",
    "       min=i\n",
    "  return min\n",
    "\n",
    "print(\"Max num: \",maximum(list))\n",
    "print(\"Min num: \",minimum(list))\n"
   ]
  },
  {
   "cell_type": "code",
   "execution_count": 25,
   "metadata": {},
   "outputs": [
    {
     "name": "stdout",
     "output_type": "stream",
     "text": [
      "Word with max length: samridhi\n"
     ]
    }
   ],
   "source": [
    "#QUESTION 4\n",
    "list=['sejal','saanvi','samridhi','sambhav','saksham']\n",
    "max = len(list[0])\n",
    "for i in list:\n",
    "    if(len(i)>max):\n",
    "        max=len(i)\n",
    "        store=i\n",
    "print(\"Word with max length:\", store )\n",
    "       "
   ]
  }
 ],
 "metadata": {
  "kernelspec": {
   "display_name": "Python 3",
   "language": "python",
   "name": "python3"
  },
  "language_info": {
   "codemirror_mode": {
    "name": "ipython",
    "version": 3
   },
   "file_extension": ".py",
   "mimetype": "text/x-python",
   "name": "python",
   "nbconvert_exporter": "python",
   "pygments_lexer": "ipython3",
   "version": "3.11.9"
  }
 },
 "nbformat": 4,
 "nbformat_minor": 2
}
