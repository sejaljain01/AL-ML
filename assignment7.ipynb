{
 "cells": [
  {
   "cell_type": "code",
   "execution_count": 6,
   "metadata": {},
   "outputs": [
    {
     "name": "stdout",
     "output_type": "stream",
     "text": [
      "[[0.38820328 0.81137946 0.25540975 0.32877719 0.71378759]\n",
      " [0.0548677  0.95892328 0.67868499 0.50626228 0.57202246]\n",
      " [0.49792979 0.91920834 0.38898736 0.66748341 0.38788685]\n",
      " [0.45287305 0.29741708 0.34614468 0.25140469 0.90472754]\n",
      " [0.48019783 0.0334919  0.85664283 0.75360244 0.36540789]\n",
      " [0.40641215 0.36662385 0.55914815 0.72166251 0.52527533]\n",
      " [0.52173823 0.47856105 0.8855408  0.31667365 0.06154511]\n",
      " [0.61642588 0.75998654 0.15924204 0.57517228 0.34067799]\n",
      " [0.2676563  0.20767958 0.98250085 0.01057888 0.64563639]\n",
      " [0.95700925 0.13200145 0.67085767 0.37921036 0.35469975]\n",
      " [0.16356711 0.56376066 0.81894514 0.74820461 0.17267969]\n",
      " [0.58903347 0.50123299 0.39941796 0.95536879 0.04030878]]\n",
      "The last row of the array is: [[0.58903347 0.50123299 0.39941796 0.95536879 0.04030878]]\n",
      "After updating the last row array becomes:\n",
      "[[0.38820328 0.81137946 0.25540975 0.32877719 0.71378759]\n",
      " [0.0548677  0.95892328 0.67868499 0.50626228 0.57202246]\n",
      " [0.49792979 0.91920834 0.38898736 0.66748341 0.38788685]\n",
      " [0.45287305 0.29741708 0.34614468 0.25140469 0.90472754]\n",
      " [0.48019783 0.0334919  0.85664283 0.75360244 0.36540789]\n",
      " [0.40641215 0.36662385 0.55914815 0.72166251 0.52527533]\n",
      " [0.52173823 0.47856105 0.8855408  0.31667365 0.06154511]\n",
      " [0.61642588 0.75998654 0.15924204 0.57517228 0.34067799]\n",
      " [0.2676563  0.20767958 0.98250085 0.01057888 0.64563639]\n",
      " [0.95700925 0.13200145 0.67085767 0.37921036 0.35469975]\n",
      " [0.16356711 0.56376066 0.81894514 0.74820461 0.17267969]\n",
      " [1.78       2.56       3.333      4.43       5.8796    ]]\n"
     ]
    }
   ],
   "source": [
    "#QUESTION 1\n",
    "import numpy as n\n",
    "arr =n.random.random((12,5))\n",
    "print(arr)\n",
    "print('The last row of the array is:',arr[11:12])\n",
    "arr[11]=[1.78,2.56,3.333,4.43,5.8796]\n",
    "print('After updating the last row array becomes:')\n",
    "print(arr)\n",
    "\n"
   ]
  },
  {
   "cell_type": "code",
   "execution_count": 7,
   "metadata": {},
   "outputs": [
    {
     "name": "stdout",
     "output_type": "stream",
     "text": [
      "[[50  1 28 22 47]\n",
      " [37 12  1 15 37]\n",
      " [22  1  5  9 31]\n",
      " [24 26 23 56 20]\n",
      " [54 56 29 22 57]\n",
      " [30 53 15 29 50]\n",
      " [40 54 14 20 55]\n",
      " [25 43 38 29 58]\n",
      " [39 11 32 34 35]\n",
      " [49 40 47 36 33]\n",
      " [19 44 10  5  3]\n",
      " [47 57 15  1 10]]\n",
      "The maximun value in row  0 : 50\n",
      "The minimum value in row  0 : 1\n",
      "The maximun value in row  1 : 37\n",
      "The minimum value in row  1 : 1\n",
      "The maximun value in row  2 : 31\n",
      "The minimum value in row  2 : 1\n",
      "The maximun value in row  3 : 56\n",
      "The minimum value in row  3 : 20\n",
      "The maximun value in row  4 : 57\n",
      "The minimum value in row  4 : 22\n",
      "The maximun value in row  5 : 53\n",
      "The minimum value in row  5 : 15\n",
      "The maximun value in row  6 : 55\n",
      "The minimum value in row  6 : 14\n",
      "The maximun value in row  7 : 58\n",
      "The minimum value in row  7 : 25\n",
      "The maximun value in row  8 : 39\n",
      "The minimum value in row  8 : 11\n",
      "The maximun value in row  9 : 49\n",
      "The minimum value in row  9 : 33\n",
      "The maximun value in row  10 : 44\n",
      "The minimum value in row  10 : 3\n",
      "The maximun value in row  11 : 57\n",
      "The minimum value in row  11 : 1\n"
     ]
    }
   ],
   "source": [
    "#QUESTION 2\n",
    "import numpy as n\n",
    "arr2 = n.random.randint(1,60,60)\n",
    "arr3=arr2.reshape(12,5)\n",
    "print(arr3)\n",
    "i =0\n",
    "for row in arr3:\n",
    "    print('The maximun value in row ',i,':',max(row))\n",
    "    print('The minimum value in row ',i,':',min(row))\n",
    "    i+=1"
   ]
  }
 ],
 "metadata": {
  "kernelspec": {
   "display_name": "Python 3",
   "language": "python",
   "name": "python3"
  },
  "language_info": {
   "codemirror_mode": {
    "name": "ipython",
    "version": 3
   },
   "file_extension": ".py",
   "mimetype": "text/x-python",
   "name": "python",
   "nbconvert_exporter": "python",
   "pygments_lexer": "ipython3",
   "version": "3.11.9"
  }
 },
 "nbformat": 4,
 "nbformat_minor": 2
}
