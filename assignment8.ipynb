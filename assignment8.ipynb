{
 "cells": [
  {
   "cell_type": "code",
   "execution_count": 21,
   "metadata": {},
   "outputs": [],
   "source": [
    "import numpy as np"
   ]
  },
  {
   "cell_type": "code",
   "execution_count": 47,
   "metadata": {},
   "outputs": [
    {
     "name": "stdout",
     "output_type": "stream",
     "text": [
      "Array is:\n",
      "[[62 98 37 31 59]\n",
      " [58 96 54 56 48]\n",
      " [23 94 80 58  5]\n",
      " [31 19 28 65 36]\n",
      " [57 12  7 47 21]\n",
      " [26 74 15 53 89]\n",
      " [59 26 45 88 27]\n",
      " [74 99 68 57 13]\n",
      " [55 51 15 34 94]\n",
      " [48 56 99 93 28]\n",
      " [44 22 89  5 66]\n",
      " [18 68 25 87 73]]\n",
      "Average of the last row: 54.2\n",
      "Minimum of the last row: 18\n",
      "Maximum of the last row: 87\n",
      "No of even in last row 2\n"
     ]
    }
   ],
   "source": [
    "#question1\n",
    "def calculate(arr2):\n",
    "    print(\"Average of the last row:\",arr2[11].mean())\n",
    "    print(\"Minimum of the last row:\",arr2[11].min())\n",
    "    print(\"Maximum of the last row:\",arr2[11].max())\n",
    "    count =0\n",
    "    for i in arr2[11]:\n",
    "        if(i%2==0):\n",
    "            count+=1\n",
    "    print(\"No of even in last row\",count)\n",
    "\n",
    "         \n",
    "\n",
    "\n",
    "arr=np.random.randint(1,100,60)\n",
    "arr2 =arr.reshape(12,5)\n",
    "print(\"Array is:\")\n",
    "print(arr2)\n",
    "calculate(arr2)\n"
   ]
  },
  {
   "cell_type": "code",
   "execution_count": 26,
   "metadata": {},
   "outputs": [
    {
     "name": "stdout",
     "output_type": "stream",
     "text": [
      "[[3 2 1]\n",
      " [6 5 4]\n",
      " [9 8 7]]\n"
     ]
    }
   ],
   "source": [
    "#question2\n",
    "arr1=np.array([[1,2,3],\n",
    "              [4,5,6],\n",
    "              [7,8,9]])\n",
    "\n",
    "print(arr1[:,-1:-4:-1])\n"
   ]
  },
  {
   "cell_type": "code",
   "execution_count": null,
   "metadata": {},
   "outputs": [],
   "source": []
  }
 ],
 "metadata": {
  "kernelspec": {
   "display_name": "Python 3",
   "language": "python",
   "name": "python3"
  },
  "language_info": {
   "codemirror_mode": {
    "name": "ipython",
    "version": 3
   },
   "file_extension": ".py",
   "mimetype": "text/x-python",
   "name": "python",
   "nbconvert_exporter": "python",
   "pygments_lexer": "ipython3",
   "version": "3.11.5"
  }
 },
 "nbformat": 4,
 "nbformat_minor": 2
}
